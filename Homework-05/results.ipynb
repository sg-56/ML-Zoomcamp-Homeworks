{
 "cells": [
  {
   "cell_type": "code",
   "execution_count": 1,
   "id": "fa6e0d7c-622f-4a5e-91d9-ea4c46b16a01",
   "metadata": {},
   "outputs": [],
   "source": [
    "import requests"
   ]
  },
  {
   "cell_type": "markdown",
   "id": "8ee3b732-013d-482c-8dc9-8b778c93cbd0",
   "metadata": {},
   "source": [
    "## Prediction for Flask Locally using Gunicorn"
   ]
  },
  {
   "cell_type": "code",
   "execution_count": 24,
   "id": "e7bcc788-d5ad-4d52-8f24-019d7f08f71f",
   "metadata": {},
   "outputs": [
    {
     "data": {
      "text/plain": [
       "{'churn': 'False', 'churn_probability': '0.33480703475511053'}"
      ]
     },
     "execution_count": 24,
     "metadata": {},
     "output_type": "execute_result"
    }
   ],
   "source": [
    "url = \"http://127.0.0.1:9696/predict\"\n",
    "client = {\"job\": \"student\", \"duration\": 280, \"poutcome\": \"failure\"}\n",
    "requests.post(url,json=client).json()"
   ]
  },
  {
   "cell_type": "markdown",
   "id": "9ed08eae-a749-4b9d-9ce8-75abaabd376f",
   "metadata": {},
   "source": [
    "## Prediction for Docker Image"
   ]
  },
  {
   "cell_type": "code",
   "execution_count": 26,
   "id": "8ac3dab6-570c-43c1-96fe-199b9506151b",
   "metadata": {},
   "outputs": [
    {
     "data": {
      "text/plain": [
       "{'churn': 'True', 'churn_probability': '0.7590966516879658'}"
      ]
     },
     "execution_count": 26,
     "metadata": {},
     "output_type": "execute_result"
    }
   ],
   "source": [
    "url = \"http://0.0.0.0:9696/predict\"\n",
    "client = {\"job\": \"management\", \"duration\": 400, \"poutcome\": \"success\"}\n",
    "requests.post(url, json=client).json()"
   ]
  }
 ],
 "metadata": {
  "kernelspec": {
   "display_name": "Python 3 (ipykernel)",
   "language": "python",
   "name": "python3"
  },
  "language_info": {
   "codemirror_mode": {
    "name": "ipython",
    "version": 3
   },
   "file_extension": ".py",
   "mimetype": "text/x-python",
   "name": "python",
   "nbconvert_exporter": "python",
   "pygments_lexer": "ipython3",
   "version": "3.12.3"
  }
 },
 "nbformat": 4,
 "nbformat_minor": 5
}
